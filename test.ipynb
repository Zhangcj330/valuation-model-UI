{
 "cells": [
  {
   "cell_type": "code",
   "execution_count": 43,
   "metadata": {},
   "outputs": [
    {
     "data": {
      "text/plain": [
       "'Business Development and Thought Leadership/Valuation Model Development/Run1/models'"
      ]
     },
     "execution_count": 43,
     "metadata": {},
     "output_type": "execute_result"
    }
   ],
   "source": [
    "from urllib.parse import unquote, urlparse\n",
    "\n",
    "\n",
    "def normalize_url( url: str) -> str:\n",
    "    \"\"\"Normalize the SharePoint URL to ensure compatibility\"\"\"\n",
    "\n",
    "    parsed_url = urlparse(url)\n",
    "    path = unquote(parsed_url.path).strip('/')\n",
    "    # Construct the Graph API path\n",
    "    # Assuming the path is something like '/sites/SiteName/Shared Documents/...'\n",
    "    if path.startswith('sites/'):\n",
    "        path_parts = path.split('/', 3)\n",
    "        if len(path_parts) > 3:\n",
    "            site_path = path_parts[3]  # This should be the path after '/sites/SiteName/'\n",
    "        else:\n",
    "            site_path = ''\n",
    "    else:\n",
    "        site_path = path\n",
    "\n",
    "    return site_path\n",
    "\n",
    "\n",
    "url = \"https://datalyactuarial.sharepoint.com/sites/DatalyActuarial/Shared%20Documents/Business%20Development%20and%20Thought%20Leadership/Valuation%20Model%20Development/Run1/models\"\n",
    "normalize_url(url)\n"
   ]
  },
  {
   "cell_type": "code",
   "execution_count": null,
   "metadata": {},
   "outputs": [],
   "source": []
  }
 ],
 "metadata": {
  "language_info": {
   "name": "python"
  }
 },
 "nbformat": 4,
 "nbformat_minor": 2
}
