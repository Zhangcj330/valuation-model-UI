{
 "cells": [
  {
   "cell_type": "code",
   "execution_count": 5,
   "metadata": {},
   "outputs": [
    {
     "ename": "ModuleNotFoundError",
     "evalue": "No module named 'modelx'",
     "output_type": "error",
     "traceback": [
      "\u001b[1;31m---------------------------------------------------------------------------\u001b[0m",
      "\u001b[1;31mModuleNotFoundError\u001b[0m                       Traceback (most recent call last)",
      "Cell \u001b[1;32mIn[5], line 1\u001b[0m\n\u001b[1;32m----> 1\u001b[0m \u001b[38;5;28;01mimport\u001b[39;00m \u001b[38;5;21;01mmodelx\u001b[39;00m \u001b[38;5;28;01mas\u001b[39;00m \u001b[38;5;21;01mmx\u001b[39;00m\n\u001b[0;32m      3\u001b[0m model \u001b[38;5;241m=\u001b[39m mx\u001b[38;5;241m.\u001b[39mread_model(\u001b[38;5;124m\"\u001b[39m\u001b[38;5;124mBasic_Term_Model_v1\u001b[39m\u001b[38;5;124m\"\u001b[39m)\n",
      "\u001b[1;31mModuleNotFoundError\u001b[0m: No module named 'modelx'"
     ]
    }
   ],
   "source": [
    "import modelx as mx\n",
    "\n",
    "model = mx.read_model(\"Basic_Term_Model_v1\")\n",
    "        "
   ]
  },
  {
   "cell_type": "code",
   "execution_count": 2,
   "metadata": {},
   "outputs": [
    {
     "name": "stdout",
     "output_type": "stream",
     "text": [
      "Requirement already satisfied: modelx in c:\\users\\zhang\\anaconda3\\lib\\site-packages (0.28.0)\n",
      "Requirement already satisfied: networkx>=2.2 in c:\\users\\zhang\\anaconda3\\lib\\site-packages (from modelx) (3.3)\n",
      "Requirement already satisfied: asttokens in c:\\users\\zhang\\appdata\\roaming\\python\\python311\\site-packages (from modelx) (2.4.1)\n",
      "Requirement already satisfied: libcst in c:\\users\\zhang\\anaconda3\\lib\\site-packages (from modelx) (1.5.1)\n",
      "Requirement already satisfied: six>=1.12.0 in c:\\users\\zhang\\anaconda3\\lib\\site-packages (from asttokens->modelx) (1.16.0)\n",
      "Requirement already satisfied: pyyaml>=5.2 in c:\\users\\zhang\\anaconda3\\lib\\site-packages (from libcst->modelx) (6.0.2)\n"
     ]
    }
   ],
   "source": [
    "!pip install modelx\n"
   ]
  }
 ],
 "metadata": {
  "kernelspec": {
   "display_name": "Python 3",
   "language": "python",
   "name": "python3"
  },
  "language_info": {
   "codemirror_mode": {
    "name": "ipython",
    "version": 3
   },
   "file_extension": ".py",
   "mimetype": "text/x-python",
   "name": "python",
   "nbconvert_exporter": "python",
   "pygments_lexer": "ipython3",
   "version": "3.10.11"
  }
 },
 "nbformat": 4,
 "nbformat_minor": 2
}
