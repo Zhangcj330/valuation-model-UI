{
 "cells": [
  {
   "cell_type": "code",
   "execution_count": 5,
   "metadata": {},
   "outputs": [
    {
     "ename": "ModuleNotFoundError",
     "evalue": "No module named 'modelx'",
     "output_type": "error",
     "traceback": [
      "\u001b[1;31m---------------------------------------------------------------------------\u001b[0m",
      "\u001b[1;31mModuleNotFoundError\u001b[0m                       Traceback (most recent call last)",
      "Cell \u001b[1;32mIn[5], line 1\u001b[0m\n\u001b[1;32m----> 1\u001b[0m \u001b[38;5;28;01mimport\u001b[39;00m \u001b[38;5;21;01mmodelx\u001b[39;00m \u001b[38;5;28;01mas\u001b[39;00m \u001b[38;5;21;01mmx\u001b[39;00m\n\u001b[0;32m      3\u001b[0m model \u001b[38;5;241m=\u001b[39m mx\u001b[38;5;241m.\u001b[39mread_model(\u001b[38;5;124m\"\u001b[39m\u001b[38;5;124mBasic_Term_Model_v1\u001b[39m\u001b[38;5;124m\"\u001b[39m)\n",
      "\u001b[1;31mModuleNotFoundError\u001b[0m: No module named 'modelx'"
     ]
    }
   ],
   "source": [
    "import modelx as mx\n",
    "\n",
    "model = mx.read_model(\"Basic_Term_Model_v1\")\n",
    "        "
   ]
  },
  {
   "cell_type": "code",
   "execution_count": 3,
   "metadata": {},
   "outputs": [
    {
     "data": {
      "text/plain": [
       "{'valuation_date': datetime.date(2025, 1, 15),\n",
       " 'assumption_table_url': 's3://valuation-model/term/run1/Assumptions.xlsx',\n",
       " 'projection_period': 20,\n",
       " 'output_s3_url': 's3://valuation-model/term/run1/output'}"
      ]
     },
     "execution_count": 3,
     "metadata": {},
     "output_type": "execute_result"
    }
   ],
   "source": [
    "import json\n",
    "from pathlib import Path\n",
    "import datetime\n",
    "\n",
    "def load_settings():\n",
    "    \"\"\"Load saved settings from a JSON file\"\"\"\n",
    "    settings_file = Path(\"saved_settings.json\")\n",
    "    if not settings_file.exists():\n",
    "        return None\n",
    "        \n",
    "    with open(settings_file, \"r\") as f:\n",
    "        settings = json.load(f)\n",
    "        if isinstance(settings.get(\"valuation_date\"), str):\n",
    "            settings[\"valuation_date\"] = datetime.datetime.strptime(\n",
    "                settings[\"valuation_date\"], \"%Y-%m-%d\"\n",
    "            ).date()\n",
    "        return settings\n",
    "\n",
    "load_settings()"
   ]
  }
 ],
 "metadata": {
  "kernelspec": {
   "display_name": "Python 3",
   "language": "python",
   "name": "python3"
  },
  "language_info": {
   "codemirror_mode": {
    "name": "ipython",
    "version": 3
   },
   "file_extension": ".py",
   "mimetype": "text/x-python",
   "name": "python",
   "nbconvert_exporter": "python",
   "pygments_lexer": "ipython3",
   "version": "3.10.11"
  }
 },
 "nbformat": 4,
 "nbformat_minor": 2
}
