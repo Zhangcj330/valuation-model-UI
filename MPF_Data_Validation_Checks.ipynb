{
 "cells": [
  {
   "cell_type": "markdown",
   "metadata": {},
   "source": [
    "### Model Point File (MPF) Data Validation Check"
   ]
  },
  {
   "cell_type": "markdown",
   "metadata": {},
   "source": [
    "#### Load the Model Point File and the defined rules"
   ]
  },
  {
   "cell_type": "code",
   "execution_count": 1,
   "metadata": {},
   "outputs": [],
   "source": [
    "# import libraries\n",
    "import pandas as pd\n",
    "import numpy as np\n",
    "from datetime import datetime, timedelta\n",
    "\n",
    "# load inputs\n",
    "df_rules = pd.read_excel(r'MPF_Data_Validation_Check_Sample.xlsx', sheet_name=\"Rules_Input\")\n",
    "df_mpf_check1 = pd.read_excel(r'MPF_Data_Validation_Check_Sample.xlsx', sheet_name=\"MPF_Input_Completeness_Check\")\n",
    "df_mpf = pd.read_excel(r'MPF_Data_Validation_Check_Sample.xlsx', sheet_name=\"MPF_Input\")"
   ]
  },
  {
   "cell_type": "markdown",
   "metadata": {},
   "source": [
    "#### Check 1: Completeness Check for all the columns"
   ]
  },
  {
   "cell_type": "code",
   "execution_count": 2,
   "metadata": {},
   "outputs": [],
   "source": [
    "def completeness_check(df: pd.DataFrame):\n",
    "    \"\"\"If any column contains NaN, blank, or empty values, it returns an error message with the affected columns.\"\"\"\n",
    "    # Identify columns with NaN, blanks, or empty strings\n",
    "    incomplete_columns = [col for col in df.columns if df[col].isna().any() or (df[col].astype(str).str.strip() == '').any()]\n",
    "    \n",
    "    if incomplete_columns:\n",
    "        return f\"Error: The following columns contain NaN, blank, or empty values: {', '.join(incomplete_columns)}\"\n",
    "    else:\n",
    "        return \"All columns are complete.\""
   ]
  },
  {
   "cell_type": "code",
   "execution_count": 3,
   "metadata": {},
   "outputs": [
    {
     "data": {
      "text/plain": [
       "'Error: The following columns contain NaN, blank, or empty values: sum_assured_dth, sum_assured_tpd, sum_assured_trm, Occupation, Benefit Period Type'"
      ]
     },
     "execution_count": 3,
     "metadata": {},
     "output_type": "execute_result"
    }
   ],
   "source": [
    "completeness_check(df_mpf_check1)"
   ]
  },
  {
   "cell_type": "markdown",
   "metadata": {},
   "source": [
    "#### Check 2: Column \"Policy number\" check"
   ]
  },
  {
   "cell_type": "code",
   "execution_count": 4,
   "metadata": {},
   "outputs": [],
   "source": [
    "def policy_number_check(df: pd.DataFrame):\n",
    "    if 'Policy number' not in df.columns:\n",
    "        return \"Error: 'Policy number' column is missing.\"\n",
    "    \n",
    "    # Check if 'Policy number' contains only integers\n",
    "    if not df['Policy number'].apply(lambda x: isinstance(x, int)).all():\n",
    "        return \"Error: 'Policy number' column must contain only integers.\"\n",
    "    \n",
    "    # Find duplicate policy numbers\n",
    "    duplicates = df['Policy number'][df['Policy number'].duplicated(keep=False)].unique()\n",
    "    \n",
    "    if duplicates.any():\n",
    "        return f\"Error: Policy Number must be unique. Duplicates found: {', '.join(map(str, duplicates))}\"\n",
    "    \n",
    "    return \"All policy numbers are valid and unique.\""
   ]
  },
  {
   "cell_type": "code",
   "execution_count": 5,
   "metadata": {},
   "outputs": [
    {
     "data": {
      "text/plain": [
       "'Error: Policy Number must be unique. Duplicates found: 19'"
      ]
     },
     "execution_count": 5,
     "metadata": {},
     "output_type": "execute_result"
    }
   ],
   "source": [
    "policy_number_check(df_mpf)"
   ]
  },
  {
   "cell_type": "markdown",
   "metadata": {},
   "source": [
    "#### Check 3: Column \"policy_term\" check"
   ]
  },
  {
   "cell_type": "code",
   "execution_count": 6,
   "metadata": {},
   "outputs": [],
   "source": [
    "def policy_term_check(df):\n",
    "    # Identify rows where policy_term is not an integer greater than 0\n",
    "    invalid_rows = df[(df[\"policy_term\"] <= 0) | (df[\"policy_term\"] % 1 != 0)]\n",
    "    \n",
    "    if not invalid_rows.empty:\n",
    "        print(\"Error: The following policy numbers have incorrect policy terms\")\n",
    "        return invalid_rows[[\"Policy number\", \"policy_term\"]].reset_index(drop=True)\n",
    "    else:\n",
    "        print(\"All policy terms are correct.\")\n",
    "        return None"
   ]
  },
  {
   "cell_type": "code",
   "execution_count": 7,
   "metadata": {},
   "outputs": [
    {
     "name": "stdout",
     "output_type": "stream",
     "text": [
      "Error: The following policy numbers have incorrect policy terms\n"
     ]
    },
    {
     "data": {
      "text/html": [
       "<div>\n",
       "<style scoped>\n",
       "    .dataframe tbody tr th:only-of-type {\n",
       "        vertical-align: middle;\n",
       "    }\n",
       "\n",
       "    .dataframe tbody tr th {\n",
       "        vertical-align: top;\n",
       "    }\n",
       "\n",
       "    .dataframe thead th {\n",
       "        text-align: right;\n",
       "    }\n",
       "</style>\n",
       "<table border=\"1\" class=\"dataframe\">\n",
       "  <thead>\n",
       "    <tr style=\"text-align: right;\">\n",
       "      <th></th>\n",
       "      <th>Policy number</th>\n",
       "      <th>policy_term</th>\n",
       "    </tr>\n",
       "  </thead>\n",
       "  <tbody>\n",
       "    <tr>\n",
       "      <th>0</th>\n",
       "      <td>11</td>\n",
       "      <td>0</td>\n",
       "    </tr>\n",
       "  </tbody>\n",
       "</table>\n",
       "</div>"
      ],
      "text/plain": [
       "   Policy number  policy_term\n",
       "0             11            0"
      ]
     },
     "execution_count": 7,
     "metadata": {},
     "output_type": "execute_result"
    }
   ],
   "source": [
    "policy_term_check(df_mpf)"
   ]
  },
  {
   "cell_type": "markdown",
   "metadata": {},
   "source": [
    "#### Check 4: Check all the numeric amount columns"
   ]
  },
  {
   "cell_type": "code",
   "execution_count": 8,
   "metadata": {},
   "outputs": [],
   "source": [
    "def numeric_amt_check(df):\n",
    "    columns_to_check = [\"sum_assured_dth\", \"sum_assured_tpd\", \"sum_assured_trm\", \"Annual Prem\", \n",
    "                         \"R_sum_assured_dth\", \"R_sum_assured_tpd\", \"R_sum_assured_trm\", \"R_Prem\", \n",
    "                         \"Monthly Benefit\", \"R_Monthly_Ben\"]\n",
    "    \n",
    "    # Ensure all values are numeric and non-negative\n",
    "    invalid_rows = df[~df[columns_to_check].map(lambda x: isinstance(x, (int, float)) and x >= 0).all(axis=1)]\n",
    "    \n",
    "    # Ensure sum_assured_dth, Annual Prem, and Monthly Benefit are greater than zero\n",
    "    mandatory_columns = [\"sum_assured_dth\", \"Annual Prem\", \"Monthly Benefit\"]\n",
    "    invalid_mandatory_rows = df[df[mandatory_columns].map(lambda x: x == 0).any(axis=1)]\n",
    "    \n",
    "    invalid_rows = pd.concat([invalid_rows, invalid_mandatory_rows]).drop_duplicates()\n",
    "    \n",
    "    if not invalid_rows.empty:\n",
    "        print(\"Error: The following policy numbers have incorrect numeric amount values\")\n",
    "        return invalid_rows[[\"Policy number\"] + columns_to_check].reset_index(drop=True)\n",
    "    else:\n",
    "        print(\"All numeric amount values are correct.\")\n",
    "        return None"
   ]
  },
  {
   "cell_type": "code",
   "execution_count": 9,
   "metadata": {},
   "outputs": [
    {
     "name": "stdout",
     "output_type": "stream",
     "text": [
      "Error: The following policy numbers have incorrect numeric amount values\n"
     ]
    },
    {
     "data": {
      "text/html": [
       "<div>\n",
       "<style scoped>\n",
       "    .dataframe tbody tr th:only-of-type {\n",
       "        vertical-align: middle;\n",
       "    }\n",
       "\n",
       "    .dataframe tbody tr th {\n",
       "        vertical-align: top;\n",
       "    }\n",
       "\n",
       "    .dataframe thead th {\n",
       "        text-align: right;\n",
       "    }\n",
       "</style>\n",
       "<table border=\"1\" class=\"dataframe\">\n",
       "  <thead>\n",
       "    <tr style=\"text-align: right;\">\n",
       "      <th></th>\n",
       "      <th>Policy number</th>\n",
       "      <th>sum_assured_dth</th>\n",
       "      <th>sum_assured_tpd</th>\n",
       "      <th>sum_assured_trm</th>\n",
       "      <th>Annual Prem</th>\n",
       "      <th>R_sum_assured_dth</th>\n",
       "      <th>R_sum_assured_tpd</th>\n",
       "      <th>R_sum_assured_trm</th>\n",
       "      <th>R_Prem</th>\n",
       "      <th>Monthly Benefit</th>\n",
       "      <th>R_Monthly_Ben</th>\n",
       "    </tr>\n",
       "  </thead>\n",
       "  <tbody>\n",
       "    <tr>\n",
       "      <th>0</th>\n",
       "      <td>4</td>\n",
       "      <td>-1000.5</td>\n",
       "      <td>0</td>\n",
       "      <td>0</td>\n",
       "      <td>1600</td>\n",
       "      <td>0</td>\n",
       "      <td>0</td>\n",
       "      <td>0</td>\n",
       "      <td>50</td>\n",
       "      <td>2817</td>\n",
       "      <td>1408.5</td>\n",
       "    </tr>\n",
       "    <tr>\n",
       "      <th>1</th>\n",
       "      <td>10</td>\n",
       "      <td>0.0</td>\n",
       "      <td>0</td>\n",
       "      <td>0</td>\n",
       "      <td>1600</td>\n",
       "      <td>0</td>\n",
       "      <td>0</td>\n",
       "      <td>0</td>\n",
       "      <td>50</td>\n",
       "      <td>2817</td>\n",
       "      <td>1408.5</td>\n",
       "    </tr>\n",
       "    <tr>\n",
       "      <th>2</th>\n",
       "      <td>11</td>\n",
       "      <td>100000.0</td>\n",
       "      <td>0</td>\n",
       "      <td>0</td>\n",
       "      <td>0</td>\n",
       "      <td>0</td>\n",
       "      <td>0</td>\n",
       "      <td>0</td>\n",
       "      <td>0</td>\n",
       "      <td>0</td>\n",
       "      <td>1408.5</td>\n",
       "    </tr>\n",
       "    <tr>\n",
       "      <th>3</th>\n",
       "      <td>12</td>\n",
       "      <td>100000.0</td>\n",
       "      <td>0</td>\n",
       "      <td>0</td>\n",
       "      <td>0</td>\n",
       "      <td>0</td>\n",
       "      <td>0</td>\n",
       "      <td>0</td>\n",
       "      <td>0</td>\n",
       "      <td>0</td>\n",
       "      <td>1408.5</td>\n",
       "    </tr>\n",
       "    <tr>\n",
       "      <th>4</th>\n",
       "      <td>13</td>\n",
       "      <td>100000.0</td>\n",
       "      <td>0</td>\n",
       "      <td>0</td>\n",
       "      <td>0</td>\n",
       "      <td>0</td>\n",
       "      <td>0</td>\n",
       "      <td>0</td>\n",
       "      <td>0</td>\n",
       "      <td>2817</td>\n",
       "      <td>1408.5</td>\n",
       "    </tr>\n",
       "  </tbody>\n",
       "</table>\n",
       "</div>"
      ],
      "text/plain": [
       "   Policy number  sum_assured_dth  sum_assured_tpd  sum_assured_trm  \\\n",
       "0              4          -1000.5                0                0   \n",
       "1             10              0.0                0                0   \n",
       "2             11         100000.0                0                0   \n",
       "3             12         100000.0                0                0   \n",
       "4             13         100000.0                0                0   \n",
       "\n",
       "   Annual Prem  R_sum_assured_dth  R_sum_assured_tpd  R_sum_assured_trm  \\\n",
       "0         1600                  0                  0                  0   \n",
       "1         1600                  0                  0                  0   \n",
       "2            0                  0                  0                  0   \n",
       "3            0                  0                  0                  0   \n",
       "4            0                  0                  0                  0   \n",
       "\n",
       "   R_Prem  Monthly Benefit  R_Monthly_Ben  \n",
       "0      50             2817         1408.5  \n",
       "1      50             2817         1408.5  \n",
       "2       0                0         1408.5  \n",
       "3       0                0         1408.5  \n",
       "4       0             2817         1408.5  "
      ]
     },
     "execution_count": 9,
     "metadata": {},
     "output_type": "execute_result"
    }
   ],
   "source": [
    "numeric_amt_check(df_mpf)"
   ]
  },
  {
   "cell_type": "markdown",
   "metadata": {},
   "source": [
    "#### Check 5: Column \"DOB\" check"
   ]
  },
  {
   "cell_type": "code",
   "execution_count": 10,
   "metadata": {},
   "outputs": [],
   "source": [
    "def dob_check(df):\n",
    "    today = datetime.today().date()\n",
    "    min_date = today - timedelta(days=65*365)  # 65 years ago\n",
    "    max_date = today - timedelta(days=18*365)  # 18 years ago\n",
    "    \n",
    "    # Ensure DOB is a string, clean spaces, and convert to datetime\n",
    "    df[\"DOB\"] = df[\"DOB\"].astype(str).str.strip()\n",
    "    \n",
    "    try:\n",
    "        df[\"DOB\"] = pd.to_datetime(df[\"DOB\"], format=\"%Y-%m-%d\", errors=\"coerce\").dt.date\n",
    "    except Exception as e:\n",
    "        print(\"Error converting DOB:\", e)\n",
    "    \n",
    "    invalid_rows = df[(df[\"DOB\"].isna()) | (df[\"DOB\"] < min_date) | (df[\"DOB\"] > max_date)]\n",
    "    \n",
    "    if not invalid_rows.empty:\n",
    "        print(\"Error: The following policy numbers have incorrect DOB values\")\n",
    "        return invalid_rows[[\"Policy number\", \"DOB\"]].reset_index(drop=True)\n",
    "    else:\n",
    "        print(\"All DOB values are correct.\")\n",
    "        return None"
   ]
  },
  {
   "cell_type": "code",
   "execution_count": 11,
   "metadata": {},
   "outputs": [
    {
     "name": "stdout",
     "output_type": "stream",
     "text": [
      "Error: The following policy numbers have incorrect DOB values\n"
     ]
    },
    {
     "data": {
      "text/html": [
       "<div>\n",
       "<style scoped>\n",
       "    .dataframe tbody tr th:only-of-type {\n",
       "        vertical-align: middle;\n",
       "    }\n",
       "\n",
       "    .dataframe tbody tr th {\n",
       "        vertical-align: top;\n",
       "    }\n",
       "\n",
       "    .dataframe thead th {\n",
       "        text-align: right;\n",
       "    }\n",
       "</style>\n",
       "<table border=\"1\" class=\"dataframe\">\n",
       "  <thead>\n",
       "    <tr style=\"text-align: right;\">\n",
       "      <th></th>\n",
       "      <th>Policy number</th>\n",
       "      <th>DOB</th>\n",
       "    </tr>\n",
       "  </thead>\n",
       "  <tbody>\n",
       "    <tr>\n",
       "      <th>0</th>\n",
       "      <td>11</td>\n",
       "      <td>2018-05-01</td>\n",
       "    </tr>\n",
       "    <tr>\n",
       "      <th>1</th>\n",
       "      <td>16</td>\n",
       "      <td>2013-05-01</td>\n",
       "    </tr>\n",
       "  </tbody>\n",
       "</table>\n",
       "</div>"
      ],
      "text/plain": [
       "   Policy number         DOB\n",
       "0             11  2018-05-01\n",
       "1             16  2013-05-01"
      ]
     },
     "execution_count": 11,
     "metadata": {},
     "output_type": "execute_result"
    }
   ],
   "source": [
    "dob_check(df_mpf)"
   ]
  },
  {
   "cell_type": "markdown",
   "metadata": {},
   "source": [
    "#### Check 6: Column \"Entry date\" check"
   ]
  },
  {
   "cell_type": "code",
   "execution_count": 12,
   "metadata": {},
   "outputs": [],
   "source": [
    "def entry_date_check(df, val_date):\n",
    "    val_date = datetime.strptime(val_date, \"%Y-%m-%d\").date()\n",
    "    \n",
    "    df[\"Entry date\"] = pd.to_datetime(df[\"Entry date\"], errors=\"coerce\").dt.date\n",
    "    \n",
    "    invalid_rows = df[(df[\"Entry date\"].isna()) | (df[\"Entry date\"] < df[\"DOB\"]) | (df[\"Entry date\"] > val_date)]\n",
    "    \n",
    "    if not invalid_rows.empty:\n",
    "        print(\"Error: The following policy numbers have incorrect entry dates\")\n",
    "        return invalid_rows[[\"Policy number\", \"Entry date\"]].reset_index(drop=True)\n",
    "    else:\n",
    "        print(\"All entry dates are correct.\")\n",
    "        return None"
   ]
  },
  {
   "cell_type": "code",
   "execution_count": 13,
   "metadata": {},
   "outputs": [
    {
     "name": "stdout",
     "output_type": "stream",
     "text": [
      "Error: The following policy numbers have incorrect entry dates\n"
     ]
    },
    {
     "data": {
      "text/html": [
       "<div>\n",
       "<style scoped>\n",
       "    .dataframe tbody tr th:only-of-type {\n",
       "        vertical-align: middle;\n",
       "    }\n",
       "\n",
       "    .dataframe tbody tr th {\n",
       "        vertical-align: top;\n",
       "    }\n",
       "\n",
       "    .dataframe thead th {\n",
       "        text-align: right;\n",
       "    }\n",
       "</style>\n",
       "<table border=\"1\" class=\"dataframe\">\n",
       "  <thead>\n",
       "    <tr style=\"text-align: right;\">\n",
       "      <th></th>\n",
       "      <th>Policy number</th>\n",
       "      <th>Entry date</th>\n",
       "    </tr>\n",
       "  </thead>\n",
       "  <tbody>\n",
       "    <tr>\n",
       "      <th>0</th>\n",
       "      <td>12</td>\n",
       "      <td>1990-11-11</td>\n",
       "    </tr>\n",
       "    <tr>\n",
       "      <th>1</th>\n",
       "      <td>16</td>\n",
       "      <td>2024-11-10</td>\n",
       "    </tr>\n",
       "  </tbody>\n",
       "</table>\n",
       "</div>"
      ],
      "text/plain": [
       "   Policy number  Entry date\n",
       "0             12  1990-11-11\n",
       "1             16  2024-11-10"
      ]
     },
     "execution_count": 13,
     "metadata": {},
     "output_type": "execute_result"
    }
   ],
   "source": [
    "entry_date_check(df_mpf, \"2024-06-30\")"
   ]
  },
  {
   "cell_type": "markdown",
   "metadata": {},
   "source": [
    "#### Check 7: Check against all defined rules"
   ]
  },
  {
   "cell_type": "code",
   "execution_count": 14,
   "metadata": {},
   "outputs": [],
   "source": [
    "def generic_check(df, df_rules, column_name):\n",
    "    # Extract the valid values from df_rules and convert them into a set\n",
    "    valid_values = set(df_rules.loc[df_rules[\"Column\"] == column_name, \"Input_Array\"].str.split(\", \").explode())\n",
    "    \n",
    "    # Convert column to string for consistent comparison\n",
    "    df[column_name] = df[column_name].astype(str)\n",
    "    \n",
    "    # Identify rows with invalid values\n",
    "    invalid_rows = df[~df[column_name].isin(valid_values)]\n",
    "    \n",
    "    if not invalid_rows.empty:\n",
    "        print(f\"{column_name} Check:\")\n",
    "        print(f\"Error: The following policy numbers have incorrect {column_name} values\")\n",
    "        print(invalid_rows[[\"Policy number\", column_name]].reset_index(drop=True))\n",
    "    else:\n",
    "        print(f\"{column_name} Check:\")\n",
    "        print(f\"All {column_name} values are correct.\")\n",
    "\n",
    "def integer_check(df, columns):\n",
    "    for column in columns:\n",
    "        invalid_rows = df[(~df[column].apply(lambda x: isinstance(x, int))) | (df[column] <= 0)]\n",
    "        \n",
    "        if not invalid_rows.empty:\n",
    "            print(f\"{column} Check:\")\n",
    "            print(f\"Error: The following policy numbers have incorrect {column} values\")\n",
    "            print(invalid_rows[[\"Policy Number\", column]].reset_index(drop=True))\n",
    "        else:\n",
    "            print(f\"All {column} values are valid integers greater than zero.\")\n",
    "\n",
    "# List of columns to check\n",
    "columns_to_check = [\"Product\", \"sex\", \"pols_if_init\", \"Prem Freq\", \"Prem_Increase_ind\", \"Smoker status\", \"Stepped_ind\", \"Occupation\", \n",
    "                    \"Waiting Period\", \"Benefit Period Type\", \"Benefit Period\", \"Benefit Type\", \"Prem Waiver\"]\n",
    "\n",
    "integer_columns = [\"IFRS17_Contract_Boundary\", \"IFRS17_Rein_Contract_Boundary\", \"Related_Policy_Group\", \"Related_Policy_Group_Rein\"]"
   ]
  },
  {
   "cell_type": "code",
   "execution_count": 15,
   "metadata": {},
   "outputs": [],
   "source": [
    "def check_all_columns(df, df_rules):\n",
    "    for column in columns_to_check:\n",
    "        generic_check(df, df_rules, column)\n",
    "    integer_check(df, integer_columns)"
   ]
  },
  {
   "cell_type": "code",
   "execution_count": 16,
   "metadata": {},
   "outputs": [
    {
     "name": "stdout",
     "output_type": "stream",
     "text": [
      "Product Check:\n",
      "Error: The following policy numbers have incorrect Product values\n",
      "   Policy number Product\n",
      "0              9    D_IP\n",
      "1             12  C_TREM\n",
      "sex Check:\n",
      "Error: The following policy numbers have incorrect sex values\n",
      "   Policy number     sex\n",
      "0              1    Male\n",
      "1             11  Female\n",
      "pols_if_init Check:\n",
      "Error: The following policy numbers have incorrect pols_if_init values\n",
      "   Policy number pols_if_init\n",
      "0             11            Y\n",
      "Prem Freq Check:\n",
      "Error: The following policy numbers have incorrect Prem Freq values\n",
      "   Policy number Prem Freq\n",
      "0             17         6\n",
      "1             18         6\n",
      "2             19        26\n",
      "Prem_Increase_ind Check:\n",
      "Error: The following policy numbers have incorrect Prem_Increase_ind values\n",
      "   Policy number Prem_Increase_ind\n",
      "0             17                 Y\n",
      "1             18                 N\n",
      "Smoker status Check:\n",
      "Error: The following policy numbers have incorrect Smoker status values\n",
      "   Policy number Smoker status\n",
      "0             11             0\n",
      "1             12             1\n",
      "2             18             0\n",
      "3             19             1\n",
      "Stepped_ind Check:\n",
      "Error: The following policy numbers have incorrect Stepped_ind values\n",
      "   Policy number Stepped_ind\n",
      "0             15           Y\n",
      "1             16           N\n",
      "Occupation Check:\n",
      "Error: The following policy numbers have incorrect Occupation values\n",
      "   Policy number Occupation\n",
      "0             15          X\n",
      "Waiting Period Check:\n",
      "Error: The following policy numbers have incorrect Waiting Period values\n",
      "   Policy number Waiting Period\n",
      "0             17              0\n",
      "1             18              0\n",
      "2             19              0\n",
      "3             19              0\n",
      "Benefit Period Type Check:\n",
      "Error: The following policy numbers have incorrect Benefit Period Type values\n",
      "   Policy number Benefit Period Type\n",
      "0             11                   N\n",
      "Benefit Period Check:\n",
      "All Benefit Period values are correct.\n",
      "Benefit Type Check:\n",
      "Error: The following policy numbers have incorrect Benefit Type values\n",
      "   Policy number  Benefit Type\n",
      "0             17  Agreed Value\n",
      "Prem Waiver Check:\n",
      "Error: The following policy numbers have incorrect Prem Waiver values\n",
      "   Policy number Prem Waiver\n",
      "0             13           Y\n",
      "1             14           N\n",
      "All IFRS17_Contract_Boundary values are valid integers greater than zero.\n",
      "All IFRS17_Rein_Contract_Boundary values are valid integers greater than zero.\n",
      "All Related_Policy_Group values are valid integers greater than zero.\n",
      "All Related_Policy_Group_Rein values are valid integers greater than zero.\n"
     ]
    }
   ],
   "source": [
    "check_all_columns(df_mpf, df_rules)"
   ]
  },
  {
   "cell_type": "code",
   "execution_count": null,
   "metadata": {},
   "outputs": [],
   "source": []
  }
 ],
 "metadata": {
  "kernelspec": {
   "display_name": "base",
   "language": "python",
   "name": "python3"
  },
  "language_info": {
   "codemirror_mode": {
    "name": "ipython",
    "version": 3
   },
   "file_extension": ".py",
   "mimetype": "text/x-python",
   "name": "python",
   "nbconvert_exporter": "python",
   "pygments_lexer": "ipython3",
   "version": "3.12.2"
  }
 },
 "nbformat": 4,
 "nbformat_minor": 2
}
